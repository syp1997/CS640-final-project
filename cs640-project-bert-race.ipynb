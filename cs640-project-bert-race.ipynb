{
 "cells": [
  {
   "cell_type": "code",
   "execution_count": 1,
   "id": "06a715aa",
   "metadata": {},
   "outputs": [],
   "source": [
    "import json\n",
    "import pandas as pd\n",
    "import numpy as np\n",
    "import re\n",
    "from sklearn import metrics\n",
    "from sklearn.metrics import classification_report\n",
    "import torch\n",
    "import torch.nn as nn\n",
    "import torch.nn.functional as F\n",
    "from torch.utils.data import Dataset, DataLoader, random_split\n",
    "import transformers\n",
    "from transformers import AutoTokenizer, AutoModelForSequenceClassification, BertTokenizer\n",
    "from sklearn.metrics import accuracy_score\n",
    "from nltk.stem import WordNetLemmatizer\n",
    "from nltk.tokenize import TweetTokenizer\n",
    "from tqdm import tqdm\n",
    "import math\n",
    "import random\n",
    "import os\n",
    "import pickle\n",
    "os.environ[\"CUDA_VISIBLE_DEVICES\"] = \"1\"\n",
    "device = 'cuda' if torch.cuda.is_available() else 'cpu'   "
   ]
  },
  {
   "cell_type": "code",
   "execution_count": 2,
   "id": "46d949cb-67d5-4db1-9872-c3164280e6cc",
   "metadata": {},
   "outputs": [],
   "source": [
    "# set up logging\n",
    "import logging\n",
    "logging.basicConfig(\n",
    "        format=\"%(asctime)s - %(message)s\",\n",
    "        datefmt=\"%m/%d/%Y %H:%M:%S\",\n",
    "        level=logging.INFO,\n",
    ")\n",
    "logger = logging.getLogger(__name__)\n",
    "logging.getLogger('transformers').setLevel(logging.ERROR)"
   ]
  },
  {
   "cell_type": "code",
   "execution_count": 3,
   "id": "5ed499ec",
   "metadata": {},
   "outputs": [],
   "source": [
    "df = pd.read_csv('clean_dataset.csv')"
   ]
  },
  {
   "cell_type": "code",
   "execution_count": 4,
   "id": "be046f8e-e063-4be2-9d8c-aa42c5674dcf",
   "metadata": {},
   "outputs": [],
   "source": [
    "df['tweets'] = df['tweets'].apply(lambda x:str(x).replace(\"nan\",\"\"))"
   ]
  },
  {
   "cell_type": "code",
   "execution_count": 5,
   "id": "247ffb44-ea2e-47ba-8731-818560e75a3e",
   "metadata": {},
   "outputs": [],
   "source": [
    "df['race'] = df['race'].apply(lambda x:int(x)-1)"
   ]
  },
  {
   "cell_type": "code",
   "execution_count": 6,
   "id": "e3f69bf0",
   "metadata": {},
   "outputs": [
    {
     "data": {
      "text/html": [
       "<div>\n",
       "<style scoped>\n",
       "    .dataframe tbody tr th:only-of-type {\n",
       "        vertical-align: middle;\n",
       "    }\n",
       "\n",
       "    .dataframe tbody tr th {\n",
       "        vertical-align: top;\n",
       "    }\n",
       "\n",
       "    .dataframe thead th {\n",
       "        text-align: right;\n",
       "    }\n",
       "</style>\n",
       "<table border=\"1\" class=\"dataframe\">\n",
       "  <thead>\n",
       "    <tr style=\"text-align: right;\">\n",
       "      <th></th>\n",
       "      <th>user_id</th>\n",
       "      <th>race</th>\n",
       "      <th>age</th>\n",
       "      <th>tweets</th>\n",
       "      <th>name</th>\n",
       "      <th>screen_name</th>\n",
       "      <th>description</th>\n",
       "      <th>lang</th>\n",
       "      <th>img_path</th>\n",
       "    </tr>\n",
       "  </thead>\n",
       "  <tbody>\n",
       "    <tr>\n",
       "      <th>0</th>\n",
       "      <td>12488</td>\n",
       "      <td>3</td>\n",
       "      <td>1</td>\n",
       "      <td>YKAR, a futuristic sans serif font by   #Freeb...</td>\n",
       "      <td>Chad Boyce</td>\n",
       "      <td>djsnipa1</td>\n",
       "      <td>Multimedia Developer, Graphic Designer, DJ, an...</td>\n",
       "      <td>NaN</td>\n",
       "      <td>profile pics/60147.jpeg</td>\n",
       "    </tr>\n",
       "    <tr>\n",
       "      <th>1</th>\n",
       "      <td>719703</td>\n",
       "      <td>3</td>\n",
       "      <td>1</td>\n",
       "      <td>In other words, it’s good news about the vacci...</td>\n",
       "      <td>Tomato 😷</td>\n",
       "      <td>Tomato</td>\n",
       "      <td>🇭🇰Rise Up!</td>\n",
       "      <td>NaN</td>\n",
       "      <td>profile pics/60148.jpeg</td>\n",
       "    </tr>\n",
       "    <tr>\n",
       "      <th>2</th>\n",
       "      <td>811618</td>\n",
       "      <td>2</td>\n",
       "      <td>1</td>\n",
       "      <td>Blah blah blah.I think RAPE is worst! RT  Bein...</td>\n",
       "      <td>Mr.O</td>\n",
       "      <td>Putanginamo</td>\n",
       "      <td>http://t.co/UfipjuQ2Mw is a blog and talk show...</td>\n",
       "      <td>NaN</td>\n",
       "      <td>profile pics/60152.jpeg</td>\n",
       "    </tr>\n",
       "    <tr>\n",
       "      <th>3</th>\n",
       "      <td>822540</td>\n",
       "      <td>3</td>\n",
       "      <td>1</td>\n",
       "      <td>❤️ 🙏.  bonk. #FFXIV400kSweepstakes. Nice.  Ed...</td>\n",
       "      <td>parker</td>\n",
       "      <td>parker</td>\n",
       "      <td>gotta go fast</td>\n",
       "      <td>NaN</td>\n",
       "      <td>profile pics/60153.jpeg</td>\n",
       "    </tr>\n",
       "    <tr>\n",
       "      <th>4</th>\n",
       "      <td>865071</td>\n",
       "      <td>3</td>\n",
       "      <td>1</td>\n",
       "      <td>How about pizza dipped in water 🤦🏻‍♂️.Day 21 ...</td>\n",
       "      <td>Kevin Jones</td>\n",
       "      <td>kevinj</td>\n",
       "      <td>NaN</td>\n",
       "      <td>NaN</td>\n",
       "      <td>profile pics/60154.jpeg</td>\n",
       "    </tr>\n",
       "    <tr>\n",
       "      <th>...</th>\n",
       "      <td>...</td>\n",
       "      <td>...</td>\n",
       "      <td>...</td>\n",
       "      <td>...</td>\n",
       "      <td>...</td>\n",
       "      <td>...</td>\n",
       "      <td>...</td>\n",
       "      <td>...</td>\n",
       "      <td>...</td>\n",
       "    </tr>\n",
       "    <tr>\n",
       "      <th>3046</th>\n",
       "      <td>4892221799</td>\n",
       "      <td>3</td>\n",
       "      <td>1</td>\n",
       "      <td>What a beautiful thing to see this ...</td>\n",
       "      <td>Amanda</td>\n",
       "      <td>BohoGrlNxtDoor</td>\n",
       "      <td>Just trying to stand out in the crowd. Which i...</td>\n",
       "      <td>NaN</td>\n",
       "      <td>profile pics/64265.jpeg</td>\n",
       "    </tr>\n",
       "    <tr>\n",
       "      <th>3047</th>\n",
       "      <td>4895390642</td>\n",
       "      <td>1</td>\n",
       "      <td>1</td>\n",
       "      <td>Inspired Attempt Tour: like when you first try...</td>\n",
       "      <td>Dalton's Eyeliner</td>\n",
       "      <td>FlyAwayEyeliner</td>\n",
       "      <td>I'm Dalton's eyeliner, who are you? Are you Da...</td>\n",
       "      <td>NaN</td>\n",
       "      <td>profile pics/64267.jpeg</td>\n",
       "    </tr>\n",
       "    <tr>\n",
       "      <th>3048</th>\n",
       "      <td>4921995243</td>\n",
       "      <td>3</td>\n",
       "      <td>1</td>\n",
       "      <td>yo</td>\n",
       "      <td>saved</td>\n",
       "      <td>memelady</td>\n",
       "      <td>NaN</td>\n",
       "      <td>NaN</td>\n",
       "      <td>profile pics/64269.jpeg</td>\n",
       "    </tr>\n",
       "    <tr>\n",
       "      <th>3049</th>\n",
       "      <td>4924158634</td>\n",
       "      <td>3</td>\n",
       "      <td>1</td>\n",
       "      <td>Those are amazing 😆.Looked over to see both b...</td>\n",
       "      <td>Winter da CoffeeCat</td>\n",
       "      <td>WinterStar21</td>\n",
       "      <td>Big fan of cats, coffee, horror stuff and anim...</td>\n",
       "      <td>NaN</td>\n",
       "      <td>profile pics/64270.jpeg</td>\n",
       "    </tr>\n",
       "    <tr>\n",
       "      <th>3050</th>\n",
       "      <td>4928657861</td>\n",
       "      <td>3</td>\n",
       "      <td>1</td>\n",
       "      <td>Stop defaulting to You just cant see the good ...</td>\n",
       "      <td>magical fluff nugget</td>\n",
       "      <td>ohitspotato</td>\n",
       "      <td>ADHD and all that fun stuff. Future counselor....</td>\n",
       "      <td>NaN</td>\n",
       "      <td>profile pics/64271.jpeg</td>\n",
       "    </tr>\n",
       "  </tbody>\n",
       "</table>\n",
       "<p>3051 rows × 9 columns</p>\n",
       "</div>"
      ],
      "text/plain": [
       "         user_id  race  age  \\\n",
       "0          12488     3    1   \n",
       "1         719703     3    1   \n",
       "2         811618     2    1   \n",
       "3         822540     3    1   \n",
       "4         865071     3    1   \n",
       "...          ...   ...  ...   \n",
       "3046  4892221799     3    1   \n",
       "3047  4895390642     1    1   \n",
       "3048  4921995243     3    1   \n",
       "3049  4924158634     3    1   \n",
       "3050  4928657861     3    1   \n",
       "\n",
       "                                                 tweets                  name  \\\n",
       "0     YKAR, a futuristic sans serif font by   #Freeb...            Chad Boyce   \n",
       "1     In other words, it’s good news about the vacci...              Tomato 😷   \n",
       "2     Blah blah blah.I think RAPE is worst! RT  Bein...                  Mr.O   \n",
       "3      ❤️ 🙏.  bonk. #FFXIV400kSweepstakes. Nice.  Ed...                parker   \n",
       "4      How about pizza dipped in water 🤦🏻‍♂️.Day 21 ...           Kevin Jones   \n",
       "...                                                 ...                   ...   \n",
       "3046             What a beautiful thing to see this ...                Amanda   \n",
       "3047  Inspired Attempt Tour: like when you first try...     Dalton's Eyeliner   \n",
       "3048                                                 yo                 saved   \n",
       "3049   Those are amazing 😆.Looked over to see both b...   Winter da CoffeeCat   \n",
       "3050  Stop defaulting to You just cant see the good ...  magical fluff nugget   \n",
       "\n",
       "          screen_name                                        description  \\\n",
       "0            djsnipa1  Multimedia Developer, Graphic Designer, DJ, an...   \n",
       "1              Tomato                                         🇭🇰Rise Up!   \n",
       "2         Putanginamo  http://t.co/UfipjuQ2Mw is a blog and talk show...   \n",
       "3              parker                                      gotta go fast   \n",
       "4              kevinj                                                NaN   \n",
       "...               ...                                                ...   \n",
       "3046   BohoGrlNxtDoor  Just trying to stand out in the crowd. Which i...   \n",
       "3047  FlyAwayEyeliner  I'm Dalton's eyeliner, who are you? Are you Da...   \n",
       "3048         memelady                                                NaN   \n",
       "3049     WinterStar21  Big fan of cats, coffee, horror stuff and anim...   \n",
       "3050      ohitspotato  ADHD and all that fun stuff. Future counselor....   \n",
       "\n",
       "      lang                 img_path  \n",
       "0      NaN  profile pics/60147.jpeg  \n",
       "1      NaN  profile pics/60148.jpeg  \n",
       "2      NaN  profile pics/60152.jpeg  \n",
       "3      NaN  profile pics/60153.jpeg  \n",
       "4      NaN  profile pics/60154.jpeg  \n",
       "...    ...                      ...  \n",
       "3046   NaN  profile pics/64265.jpeg  \n",
       "3047   NaN  profile pics/64267.jpeg  \n",
       "3048   NaN  profile pics/64269.jpeg  \n",
       "3049   NaN  profile pics/64270.jpeg  \n",
       "3050   NaN  profile pics/64271.jpeg  \n",
       "\n",
       "[3051 rows x 9 columns]"
      ]
     },
     "execution_count": 6,
     "metadata": {},
     "output_type": "execute_result"
    }
   ],
   "source": [
    "df"
   ]
  },
  {
   "cell_type": "code",
   "execution_count": 7,
   "id": "0d474ca3-c6f9-44ca-94bf-01bb68500b7a",
   "metadata": {},
   "outputs": [
    {
     "data": {
      "text/plain": [
       "0       YKAR, a futuristic sans serif font by   #Freeb...\n",
       "1       In other words, it’s good news about the vacci...\n",
       "2       Blah blah blah.I think RAPE is worst! RT  Bein...\n",
       "3        ❤️ 🙏.  bonk. #FFXIV400kSweepstakes. Nice.  Ed...\n",
       "4        How about pizza dipped in water 🤦🏻‍♂️.Day 21 ...\n",
       "                              ...                        \n",
       "3046               What a beautiful thing to see this ...\n",
       "3047    Inspired Attempt Tour: like when you first try...\n",
       "3048                                                   yo\n",
       "3049     Those are amazing 😆.Looked over to see both b...\n",
       "3050    Stop defaulting to You just cant see the good ...\n",
       "Name: tweets, Length: 3051, dtype: object"
      ]
     },
     "execution_count": 7,
     "metadata": {},
     "output_type": "execute_result"
    }
   ],
   "source": [
    "df['tweets']"
   ]
  },
  {
   "cell_type": "code",
   "execution_count": 8,
   "id": "af4ff565",
   "metadata": {},
   "outputs": [
    {
     "data": {
      "text/plain": [
       "0       3\n",
       "1       3\n",
       "2       2\n",
       "3       3\n",
       "4       3\n",
       "       ..\n",
       "3046    3\n",
       "3047    1\n",
       "3048    3\n",
       "3049    3\n",
       "3050    3\n",
       "Name: race, Length: 3051, dtype: int64"
      ]
     },
     "execution_count": 8,
     "metadata": {},
     "output_type": "execute_result"
    }
   ],
   "source": [
    "df['race']"
   ]
  },
  {
   "cell_type": "code",
   "execution_count": 9,
   "id": "ad70758a-ba9b-49b9-8d38-269189638ccc",
   "metadata": {},
   "outputs": [
    {
     "data": {
      "text/plain": [
       "3    2482\n",
       "0     290\n",
       "1     181\n",
       "2      98\n",
       "Name: race, dtype: int64"
      ]
     },
     "execution_count": 9,
     "metadata": {},
     "output_type": "execute_result"
    }
   ],
   "source": [
    "df['race'].value_counts()"
   ]
  },
  {
   "cell_type": "code",
   "execution_count": 10,
   "id": "0a9baaa1",
   "metadata": {},
   "outputs": [],
   "source": [
    "class TextDataSet(Dataset):\n",
    "    def __init__(self, input_ids, attention_mask, label):\n",
    "        self.input_ids = input_ids\n",
    "        self.attention_mask = attention_mask\n",
    "        self.label = label\n",
    "\n",
    "    def __len__(self):\n",
    "        return len(self.input_ids)\n",
    "\n",
    "    def __getitem__(self, idx):   \n",
    "        return (self.input_ids[idx], self.attention_mask[idx], self.label[idx])"
   ]
  },
  {
   "cell_type": "code",
   "execution_count": 11,
   "id": "7d4bede5",
   "metadata": {},
   "outputs": [],
   "source": [
    "def encode_data(text_list, labels, ratio=0.8):\n",
    "    inputs = tokenizer.batch_encode_plus(\n",
    "        text_list,                      \n",
    "        add_special_tokens = True,             \n",
    "        truncation=True,\n",
    "        padding = 'max_length',     \n",
    "        return_tensors = 'pt',\n",
    "        max_length = 128\n",
    "    )\n",
    "    input_ids = inputs['input_ids']\n",
    "    attention_mask = inputs['attention_mask']\n",
    "    labels = torch.Tensor(labels).long()\n",
    "    \n",
    "    dataset = TextDataSet(input_ids, attention_mask, labels)\n",
    "    train_size = int(len(dataset)*ratio)\n",
    "    valid_size = len(dataset) - train_size\n",
    "    train_dataset, valid_dataset = random_split(dataset,[train_size,valid_size])\n",
    "    print('Train samples: {}  Valid samples: {}'.format(len(train_dataset),len(valid_dataset)))\n",
    "    \n",
    "    return train_dataset, valid_dataset"
   ]
  },
  {
   "cell_type": "code",
   "execution_count": 12,
   "id": "3aaa4dbc-02de-4bba-b4e9-9afa4eff4485",
   "metadata": {},
   "outputs": [],
   "source": [
    "def process_tweet(tweet):\n",
    "    \"\"\"Process tweet function.\n",
    "    Input:\n",
    "        tweet: a string containing a tweet\n",
    "    Output:\n",
    "        tweets_clean: a list of words containing the processed tweet\n",
    "\n",
    "    \"\"\"\n",
    "    # remove hyperlinks\n",
    "    tweet = re.sub(r'https?:\\/\\/.*[\\r\\n]*', '', tweet)\n",
    "    # remove emoji\n",
    "    tweet = re.sub(r'[\\U00010000-\\U0010ffff]', '', tweet)\n",
    "    # remove hashtags\n",
    "    # only removing the hash # sign from the word\n",
    "    tweet = re.sub(r'#', '', tweet)\n",
    "    # remove stock market tickers like $GE\n",
    "    tweet = re.sub(r'\\$\\w*', '', tweet)\n",
    "    # remove old style retweet text \"RT\"\n",
    "    tweet = re.sub(r'^RT[\\s]+', '', tweet)\n",
    "\n",
    "    return tweet"
   ]
  },
  {
   "cell_type": "code",
   "execution_count": 13,
   "id": "4d91fcd6-7767-4632-bb20-9c46ef956d8a",
   "metadata": {},
   "outputs": [],
   "source": [
    "class Trainer:\n",
    "\n",
    "    def __init__(self, model, train_loader, valid_loader, config):\n",
    "        self.model = model\n",
    "        self.train_loader = train_loader\n",
    "        self.valid_loader = valid_loader\n",
    "        self.config = config\n",
    "\n",
    "        # take over whatever gpus are on the system\n",
    "        self.device = 'cpu'\n",
    "        if torch.cuda.is_available():\n",
    "            self.device = torch.cuda.current_device()\n",
    "#             self.model = torch.nn.DataParallel(self.model).to(self.device)\n",
    "            self.model = self.model.to(self.device)\n",
    "\n",
    "    def save_checkpoint(self):\n",
    "        # DataParallel wrappers keep raw model object in .module attribute\n",
    "        raw_model = self.model.module if hasattr(self.model, \"module\") else self.model\n",
    "        os.makedirs(self.config.ckpt_path, exist_ok=True)\n",
    "        save_path = os.path.join(self.config.ckpt_path, self.config.model_name)\n",
    "        torch.save(raw_model.state_dict(), save_path)\n",
    "        logger.info(\"Save model to {}\".format(save_path))\n",
    "\n",
    "    def train(self):\n",
    "        model, config = self.model, self.config\n",
    "        raw_model = model.module if hasattr(self.model, \"module\") else model\n",
    "        optimizer = torch.optim.AdamW(self.model.parameters(), lr=config.learning_rate, betas=config.betas)\n",
    "        def run_epoch(split):\n",
    "            is_train = (split == 'train')\n",
    "            model.train(is_train)\n",
    "            loader = self.train_loader if is_train else self.valid_loader\n",
    "            \n",
    "            losses = []\n",
    "            all_y = []\n",
    "            all_y_pred = []\n",
    "            pbar = tqdm(enumerate(loader), total=len(loader)) if is_train else enumerate(loader)\n",
    "            for it, (input_ids, attention_mask, y) in pbar:\n",
    "                # place data on the correct device\n",
    "#                 print(input_ids.shape,y.shape)\n",
    "                input_ids = input_ids.to(self.device)\n",
    "                attention_mask = attention_mask.to(self.device)\n",
    "                y = y.to(self.device)\n",
    "                # forward the model\n",
    "                with torch.set_grad_enabled(is_train):\n",
    "                    outputs = model(input_ids, attention_mask, labels=y)\n",
    "                    logits = outputs.logits\n",
    "                    loss = loss_fct(logits, y)\n",
    "                    loss = loss.mean() # collapse all losses if they are scattered on multiple gpus\n",
    "                    losses.append(loss.item())\n",
    "                    y_pred = torch.argmax(logits, dim=1)\n",
    "                    y = y.cpu().detach().numpy()\n",
    "                    y_pred = y_pred.cpu().detach().numpy()\n",
    "                    step_score = accuracy_score(y_pred, y)\n",
    "                    all_y.extend(y)\n",
    "                    all_y_pred.extend(y_pred)\n",
    "                \n",
    "                if is_train:\n",
    "\n",
    "                    # backprop and update the parameters\n",
    "                    model.zero_grad()\n",
    "                    loss.backward()\n",
    "                    torch.nn.utils.clip_grad_norm_(model.parameters(), config.grad_norm_clip)\n",
    "                    optimizer.step()\n",
    "\n",
    "                    # decay the learning rate based on our progress\n",
    "                    if config.lr_decay:\n",
    "                        self.tokens += batch_size # number of tokens processed this step (i.e. label is not -100)\n",
    "                        if self.tokens < config.warmup_tokens:\n",
    "                            # linear warmup\n",
    "                            lr_mult = float(self.tokens) / float(max(1, config.warmup_tokens))\n",
    "                        else:\n",
    "                            # cosine learning rate decay\n",
    "                            progress = float(self.tokens - config.warmup_tokens) / float(max(1, config.final_tokens - config.warmup_tokens))\n",
    "                            lr_mult = max(0.1, 0.5 * (1.0 + math.cos(math.pi * progress)))\n",
    "                        lr = config.learning_rate * lr_mult\n",
    "                        for param_group in optimizer.param_groups:\n",
    "                            param_group['lr'] = lr\n",
    "                    else:\n",
    "                        lr = config.learning_rate\n",
    "\n",
    "                    # report progress\n",
    "                    pbar.set_description(\"epoch {} iter {}: train loss {:.5f}, score {:.2f}%, lr {:e}\".format(epoch+1,it,loss.item(),step_score*100,lr))\n",
    "\n",
    "            if not is_train:\n",
    "                valid_loss = float(np.mean(losses))\n",
    "                all_y_pred = np.array(all_y_pred)\n",
    "                all_y = np.array(all_y)\n",
    "                valid_score = accuracy_score(all_y_pred, all_y)\n",
    "                logger.info(\"valid loss: %f\", valid_loss)\n",
    "                logger.info(\"valid score: %f\", valid_score)\n",
    "                print(classification_report(y_true=all_y, y_pred=all_y_pred))\n",
    "                return valid_loss\n",
    "\n",
    "        self.tokens = 0 # counter used for learning rate decay\n",
    "        best_loss = float('inf')\n",
    "        valid_loss = run_epoch('valid')\n",
    "        for epoch in range(config.max_epochs):\n",
    "            \n",
    "            run_epoch('train')\n",
    "            if self.valid_loader is not None:\n",
    "                valid_loss = run_epoch('valid')\n",
    "            # supports early stopping based on the valid loss, or just save always if no valid set is provided\n",
    "            good_model = self.valid_loader is None or valid_loss < best_loss\n",
    "            if self.config.ckpt_path is not None and good_model:\n",
    "                best_loss = valid_loss\n",
    "                self.save_checkpoint()"
   ]
  },
  {
   "cell_type": "code",
   "execution_count": 14,
   "id": "77c3bd03-d695-47ae-85d6-203cc7b73f01",
   "metadata": {},
   "outputs": [],
   "source": [
    "class TrainerConfig:\n",
    "    # optimization parameters\n",
    "    max_epochs = 10\n",
    "    learning_rate = 1e-5\n",
    "    betas = (0.9, 0.95)\n",
    "    grad_norm_clip = 1.0\n",
    "    weight_decay = 0.1 # may useful optimize method\n",
    "    # learning rate decay params: linear warmup followed by cosine decay to 10% of original\n",
    "    lr_decay = False # optimize method\n",
    "    warmup_tokens = 375e6 # use this to train model from a lower learning rate\n",
    "    final_tokens = 260e9 # all tokens during whole training process\n",
    "    # checkpoint settings\n",
    "    ckpt_path = './models_dir' # save model path\n",
    "    model_name = \"model_race.pt\"\n",
    "\n",
    "    def __init__(self, **kwargs):\n",
    "        for k,v in kwargs.items():\n",
    "            print(k,v)\n",
    "            setattr(self, k, v)"
   ]
  },
  {
   "cell_type": "code",
   "execution_count": 15,
   "id": "369c1a7f-cbde-4dee-9468-89144e0ff3f3",
   "metadata": {},
   "outputs": [],
   "source": [
    "tokenizer = AutoTokenizer.from_pretrained(\"bert-base-uncased\")"
   ]
  },
  {
   "cell_type": "code",
   "execution_count": 16,
   "id": "16a0410c-259d-48a7-affa-40b31d9cc32a",
   "metadata": {},
   "outputs": [],
   "source": [
    "train_data = []\n",
    "train_label = []\n",
    "for t, r in zip(df['tweets'].to_list(),df['race'].to_list()):\n",
    "    if r == 3:\n",
    "#         if random.random() < 0.125:\n",
    "        train_data.append(t)\n",
    "        train_label.append(r)\n",
    "    else:\n",
    "        train_data.append(t)\n",
    "        train_label.append(r)"
   ]
  },
  {
   "cell_type": "code",
   "execution_count": 17,
   "id": "00b65370",
   "metadata": {},
   "outputs": [
    {
     "name": "stdout",
     "output_type": "stream",
     "text": [
      "Train samples: 2440  Valid samples: 611\n"
     ]
    }
   ],
   "source": [
    "train_dataset, valid_dataset = encode_data(train_data,train_label)\n",
    "batch_size = 32\n",
    "train_loader = DataLoader(train_dataset, batch_size=batch_size, shuffle=True)\n",
    "valid_loader = DataLoader(valid_dataset, batch_size=batch_size, shuffle=True)"
   ]
  },
  {
   "cell_type": "code",
   "execution_count": 18,
   "id": "8ca7eb2b-5864-4848-84a3-44c9e2ba9c21",
   "metadata": {},
   "outputs": [
    {
     "name": "stdout",
     "output_type": "stream",
     "text": [
      "BertForSequenceClassification : all params: 109.485316M\n"
     ]
    }
   ],
   "source": [
    "loss_fct = nn.CrossEntropyLoss()\n",
    "model = AutoModelForSequenceClassification.from_pretrained(\"bert-base-uncased\", num_labels=4)\n",
    "# print model all parameters and parameters need training\n",
    "print('{} : all params: {:4f}M'.format(model._get_name(), sum(p.numel() for p in model.parameters()) / 1000 / 1000))"
   ]
  },
  {
   "cell_type": "code",
   "execution_count": 19,
   "id": "c43c258f-4bff-4fc5-8e9c-eb6cefebecd2",
   "metadata": {},
   "outputs": [
    {
     "name": "stdout",
     "output_type": "stream",
     "text": [
      "max_epochs 10\n",
      "learning_rate 1e-05\n",
      "lr_decay True\n",
      "warmup_tokens 2464\n",
      "final_tokens 24640\n"
     ]
    }
   ],
   "source": [
    "max_epochs = 10\n",
    "final_tokens = max_epochs * batch_size * len(train_loader)\n",
    "warmup_tokens = final_tokens//10\n",
    "tconf = TrainerConfig(max_epochs=max_epochs, learning_rate=1e-5, lr_decay=True, \n",
    "                      warmup_tokens=warmup_tokens, final_tokens=final_tokens)"
   ]
  },
  {
   "cell_type": "code",
   "execution_count": null,
   "id": "fe417d7d-5fe4-45ff-b758-b65ec9774ab7",
   "metadata": {},
   "outputs": [
    {
     "name": "stderr",
     "output_type": "stream",
     "text": [
      "12/07/2021 22:35:32 - valid loss: 1.664461\n",
      "12/07/2021 22:35:32 - valid score: 0.037643\n",
      "/home/suyinpei1/anaconda3/envs/syp/lib/python3.8/site-packages/sklearn/metrics/_classification.py:1248: UndefinedMetricWarning: Precision and F-score are ill-defined and being set to 0.0 in labels with no predicted samples. Use `zero_division` parameter to control this behavior.\n",
      "  _warn_prf(average, modifier, msg_start, len(result))\n",
      "/home/suyinpei1/anaconda3/envs/syp/lib/python3.8/site-packages/sklearn/metrics/_classification.py:1248: UndefinedMetricWarning: Precision and F-score are ill-defined and being set to 0.0 in labels with no predicted samples. Use `zero_division` parameter to control this behavior.\n",
      "  _warn_prf(average, modifier, msg_start, len(result))\n",
      "/home/suyinpei1/anaconda3/envs/syp/lib/python3.8/site-packages/sklearn/metrics/_classification.py:1248: UndefinedMetricWarning: Precision and F-score are ill-defined and being set to 0.0 in labels with no predicted samples. Use `zero_division` parameter to control this behavior.\n",
      "  _warn_prf(average, modifier, msg_start, len(result))\n"
     ]
    },
    {
     "name": "stdout",
     "output_type": "stream",
     "text": [
      "              precision    recall  f1-score   support\n",
      "\n",
      "           0       0.00      0.00      0.00        50\n",
      "           1       0.06      0.16      0.09        32\n",
      "           2       0.03      0.86      0.07        21\n",
      "           3       0.00      0.00      0.00       508\n",
      "\n",
      "    accuracy                           0.04       611\n",
      "   macro avg       0.02      0.25      0.04       611\n",
      "weighted avg       0.00      0.04      0.01       611\n",
      "\n"
     ]
    },
    {
     "name": "stderr",
     "output_type": "stream",
     "text": [
      "epoch 1 iter 76: train loss 0.53956, score 87.50%, lr 1.000000e-05: 100%|████████████████████████████████| 77/77 [00:21<00:00,  3.63it/s]\n",
      "12/07/2021 22:35:55 - valid loss: 0.595232\n",
      "12/07/2021 22:35:55 - valid score: 0.831424\n",
      "/home/suyinpei1/anaconda3/envs/syp/lib/python3.8/site-packages/sklearn/metrics/_classification.py:1248: UndefinedMetricWarning: Precision and F-score are ill-defined and being set to 0.0 in labels with no predicted samples. Use `zero_division` parameter to control this behavior.\n",
      "  _warn_prf(average, modifier, msg_start, len(result))\n",
      "/home/suyinpei1/anaconda3/envs/syp/lib/python3.8/site-packages/sklearn/metrics/_classification.py:1248: UndefinedMetricWarning: Precision and F-score are ill-defined and being set to 0.0 in labels with no predicted samples. Use `zero_division` parameter to control this behavior.\n",
      "  _warn_prf(average, modifier, msg_start, len(result))\n",
      "/home/suyinpei1/anaconda3/envs/syp/lib/python3.8/site-packages/sklearn/metrics/_classification.py:1248: UndefinedMetricWarning: Precision and F-score are ill-defined and being set to 0.0 in labels with no predicted samples. Use `zero_division` parameter to control this behavior.\n",
      "  _warn_prf(average, modifier, msg_start, len(result))\n"
     ]
    },
    {
     "name": "stdout",
     "output_type": "stream",
     "text": [
      "              precision    recall  f1-score   support\n",
      "\n",
      "           0       0.00      0.00      0.00        50\n",
      "           1       0.00      0.00      0.00        32\n",
      "           2       0.00      0.00      0.00        21\n",
      "           3       0.83      1.00      0.91       508\n",
      "\n",
      "    accuracy                           0.83       611\n",
      "   macro avg       0.21      0.25      0.23       611\n",
      "weighted avg       0.69      0.83      0.75       611\n",
      "\n"
     ]
    },
    {
     "name": "stderr",
     "output_type": "stream",
     "text": [
      "12/07/2021 22:35:59 - Save model to ./models_dir/model_race.pt\n",
      "epoch 2 iter 76: train loss 0.45668, score 87.50%, lr 9.698463e-06: 100%|████████████████████████████████| 77/77 [00:20<00:00,  3.71it/s]\n",
      "12/07/2021 22:36:22 - valid loss: 0.571006\n",
      "12/07/2021 22:36:22 - valid score: 0.831424\n",
      "/home/suyinpei1/anaconda3/envs/syp/lib/python3.8/site-packages/sklearn/metrics/_classification.py:1248: UndefinedMetricWarning: Precision and F-score are ill-defined and being set to 0.0 in labels with no predicted samples. Use `zero_division` parameter to control this behavior.\n",
      "  _warn_prf(average, modifier, msg_start, len(result))\n",
      "/home/suyinpei1/anaconda3/envs/syp/lib/python3.8/site-packages/sklearn/metrics/_classification.py:1248: UndefinedMetricWarning: Precision and F-score are ill-defined and being set to 0.0 in labels with no predicted samples. Use `zero_division` parameter to control this behavior.\n",
      "  _warn_prf(average, modifier, msg_start, len(result))\n",
      "/home/suyinpei1/anaconda3/envs/syp/lib/python3.8/site-packages/sklearn/metrics/_classification.py:1248: UndefinedMetricWarning: Precision and F-score are ill-defined and being set to 0.0 in labels with no predicted samples. Use `zero_division` parameter to control this behavior.\n",
      "  _warn_prf(average, modifier, msg_start, len(result))\n"
     ]
    },
    {
     "name": "stdout",
     "output_type": "stream",
     "text": [
      "              precision    recall  f1-score   support\n",
      "\n",
      "           0       0.00      0.00      0.00        50\n",
      "           1       0.00      0.00      0.00        32\n",
      "           2       0.00      0.00      0.00        21\n",
      "           3       0.83      1.00      0.91       508\n",
      "\n",
      "    accuracy                           0.83       611\n",
      "   macro avg       0.21      0.25      0.23       611\n",
      "weighted avg       0.69      0.83      0.75       611\n",
      "\n"
     ]
    },
    {
     "name": "stderr",
     "output_type": "stream",
     "text": [
      "12/07/2021 22:36:26 - Save model to ./models_dir/model_race.pt\n",
      "epoch 3 iter 76: train loss 0.52065, score 87.50%, lr 8.830222e-06: 100%|████████████████████████████████| 77/77 [00:20<00:00,  3.71it/s]\n",
      "12/07/2021 22:36:48 - valid loss: 0.600868\n",
      "12/07/2021 22:36:48 - valid score: 0.831424\n",
      "/home/suyinpei1/anaconda3/envs/syp/lib/python3.8/site-packages/sklearn/metrics/_classification.py:1248: UndefinedMetricWarning: Precision and F-score are ill-defined and being set to 0.0 in labels with no predicted samples. Use `zero_division` parameter to control this behavior.\n",
      "  _warn_prf(average, modifier, msg_start, len(result))\n",
      "/home/suyinpei1/anaconda3/envs/syp/lib/python3.8/site-packages/sklearn/metrics/_classification.py:1248: UndefinedMetricWarning: Precision and F-score are ill-defined and being set to 0.0 in labels with no predicted samples. Use `zero_division` parameter to control this behavior.\n",
      "  _warn_prf(average, modifier, msg_start, len(result))\n",
      "/home/suyinpei1/anaconda3/envs/syp/lib/python3.8/site-packages/sklearn/metrics/_classification.py:1248: UndefinedMetricWarning: Precision and F-score are ill-defined and being set to 0.0 in labels with no predicted samples. Use `zero_division` parameter to control this behavior.\n",
      "  _warn_prf(average, modifier, msg_start, len(result))\n"
     ]
    },
    {
     "name": "stdout",
     "output_type": "stream",
     "text": [
      "              precision    recall  f1-score   support\n",
      "\n",
      "           0       0.00      0.00      0.00        50\n",
      "           1       0.00      0.00      0.00        32\n",
      "           2       0.00      0.00      0.00        21\n",
      "           3       0.83      1.00      0.91       508\n",
      "\n",
      "    accuracy                           0.83       611\n",
      "   macro avg       0.21      0.25      0.23       611\n",
      "weighted avg       0.69      0.83      0.75       611\n",
      "\n"
     ]
    },
    {
     "name": "stderr",
     "output_type": "stream",
     "text": [
      "epoch 4 iter 76: train loss 0.27814, score 87.50%, lr 7.500000e-06: 100%|████████████████████████████████| 77/77 [00:20<00:00,  3.72it/s]\n",
      "12/07/2021 22:37:10 - valid loss: 0.576066\n",
      "12/07/2021 22:37:10 - valid score: 0.826514\n",
      "/home/suyinpei1/anaconda3/envs/syp/lib/python3.8/site-packages/sklearn/metrics/_classification.py:1248: UndefinedMetricWarning: Precision and F-score are ill-defined and being set to 0.0 in labels with no predicted samples. Use `zero_division` parameter to control this behavior.\n",
      "  _warn_prf(average, modifier, msg_start, len(result))\n",
      "/home/suyinpei1/anaconda3/envs/syp/lib/python3.8/site-packages/sklearn/metrics/_classification.py:1248: UndefinedMetricWarning: Precision and F-score are ill-defined and being set to 0.0 in labels with no predicted samples. Use `zero_division` parameter to control this behavior.\n",
      "  _warn_prf(average, modifier, msg_start, len(result))\n",
      "/home/suyinpei1/anaconda3/envs/syp/lib/python3.8/site-packages/sklearn/metrics/_classification.py:1248: UndefinedMetricWarning: Precision and F-score are ill-defined and being set to 0.0 in labels with no predicted samples. Use `zero_division` parameter to control this behavior.\n",
      "  _warn_prf(average, modifier, msg_start, len(result))\n"
     ]
    },
    {
     "name": "stdout",
     "output_type": "stream",
     "text": [
      "              precision    recall  f1-score   support\n",
      "\n",
      "           0       0.00      0.00      0.00        50\n",
      "           1       0.00      0.00      0.00        32\n",
      "           2       0.00      0.00      0.00        21\n",
      "           3       0.83      0.99      0.91       508\n",
      "\n",
      "    accuracy                           0.83       611\n",
      "   macro avg       0.21      0.25      0.23       611\n",
      "weighted avg       0.69      0.83      0.75       611\n",
      "\n"
     ]
    },
    {
     "name": "stderr",
     "output_type": "stream",
     "text": [
      "epoch 5 iter 76: train loss 0.99966, score 62.50%, lr 5.868241e-06: 100%|████████████████████████████████| 77/77 [00:20<00:00,  3.74it/s]\n",
      "12/07/2021 22:37:32 - valid loss: 0.589041\n",
      "12/07/2021 22:37:32 - valid score: 0.829787\n",
      "/home/suyinpei1/anaconda3/envs/syp/lib/python3.8/site-packages/sklearn/metrics/_classification.py:1248: UndefinedMetricWarning: Precision and F-score are ill-defined and being set to 0.0 in labels with no predicted samples. Use `zero_division` parameter to control this behavior.\n",
      "  _warn_prf(average, modifier, msg_start, len(result))\n",
      "/home/suyinpei1/anaconda3/envs/syp/lib/python3.8/site-packages/sklearn/metrics/_classification.py:1248: UndefinedMetricWarning: Precision and F-score are ill-defined and being set to 0.0 in labels with no predicted samples. Use `zero_division` parameter to control this behavior.\n",
      "  _warn_prf(average, modifier, msg_start, len(result))\n",
      "/home/suyinpei1/anaconda3/envs/syp/lib/python3.8/site-packages/sklearn/metrics/_classification.py:1248: UndefinedMetricWarning: Precision and F-score are ill-defined and being set to 0.0 in labels with no predicted samples. Use `zero_division` parameter to control this behavior.\n",
      "  _warn_prf(average, modifier, msg_start, len(result))\n"
     ]
    },
    {
     "name": "stdout",
     "output_type": "stream",
     "text": [
      "              precision    recall  f1-score   support\n",
      "\n",
      "           0       0.40      0.04      0.07        50\n",
      "           1       0.00      0.00      0.00        32\n",
      "           2       0.00      0.00      0.00        21\n",
      "           3       0.83      0.99      0.91       508\n",
      "\n",
      "    accuracy                           0.83       611\n",
      "   macro avg       0.31      0.26      0.24       611\n",
      "weighted avg       0.73      0.83      0.76       611\n",
      "\n"
     ]
    },
    {
     "name": "stderr",
     "output_type": "stream",
     "text": [
      "epoch 6 iter 76: train loss 0.86954, score 62.50%, lr 4.131759e-06: 100%|████████████████████████████████| 77/77 [00:22<00:00,  3.41it/s]\n",
      "12/07/2021 22:37:56 - valid loss: 0.660893\n",
      "12/07/2021 22:37:56 - valid score: 0.828151\n",
      "/home/suyinpei1/anaconda3/envs/syp/lib/python3.8/site-packages/sklearn/metrics/_classification.py:1248: UndefinedMetricWarning: Precision and F-score are ill-defined and being set to 0.0 in labels with no predicted samples. Use `zero_division` parameter to control this behavior.\n",
      "  _warn_prf(average, modifier, msg_start, len(result))\n",
      "/home/suyinpei1/anaconda3/envs/syp/lib/python3.8/site-packages/sklearn/metrics/_classification.py:1248: UndefinedMetricWarning: Precision and F-score are ill-defined and being set to 0.0 in labels with no predicted samples. Use `zero_division` parameter to control this behavior.\n",
      "  _warn_prf(average, modifier, msg_start, len(result))\n",
      "/home/suyinpei1/anaconda3/envs/syp/lib/python3.8/site-packages/sklearn/metrics/_classification.py:1248: UndefinedMetricWarning: Precision and F-score are ill-defined and being set to 0.0 in labels with no predicted samples. Use `zero_division` parameter to control this behavior.\n",
      "  _warn_prf(average, modifier, msg_start, len(result))\n"
     ]
    },
    {
     "name": "stdout",
     "output_type": "stream",
     "text": [
      "              precision    recall  f1-score   support\n",
      "\n",
      "           0       0.36      0.10      0.16        50\n",
      "           1       0.00      0.00      0.00        32\n",
      "           2       0.00      0.00      0.00        21\n",
      "           3       0.84      0.99      0.91       508\n",
      "\n",
      "    accuracy                           0.83       611\n",
      "   macro avg       0.30      0.27      0.27       611\n",
      "weighted avg       0.73      0.83      0.77       611\n",
      "\n"
     ]
    },
    {
     "name": "stderr",
     "output_type": "stream",
     "text": [
      "epoch 7 iter 76: train loss 0.56075, score 75.00%, lr 2.500000e-06: 100%|████████████████████████████████| 77/77 [00:20<00:00,  3.70it/s]\n",
      "12/07/2021 22:38:18 - valid loss: 0.611969\n",
      "12/07/2021 22:38:18 - valid score: 0.823241\n",
      "/home/suyinpei1/anaconda3/envs/syp/lib/python3.8/site-packages/sklearn/metrics/_classification.py:1248: UndefinedMetricWarning: Precision and F-score are ill-defined and being set to 0.0 in labels with no predicted samples. Use `zero_division` parameter to control this behavior.\n",
      "  _warn_prf(average, modifier, msg_start, len(result))\n",
      "/home/suyinpei1/anaconda3/envs/syp/lib/python3.8/site-packages/sklearn/metrics/_classification.py:1248: UndefinedMetricWarning: Precision and F-score are ill-defined and being set to 0.0 in labels with no predicted samples. Use `zero_division` parameter to control this behavior.\n",
      "  _warn_prf(average, modifier, msg_start, len(result))\n",
      "/home/suyinpei1/anaconda3/envs/syp/lib/python3.8/site-packages/sklearn/metrics/_classification.py:1248: UndefinedMetricWarning: Precision and F-score are ill-defined and being set to 0.0 in labels with no predicted samples. Use `zero_division` parameter to control this behavior.\n",
      "  _warn_prf(average, modifier, msg_start, len(result))\n"
     ]
    },
    {
     "name": "stdout",
     "output_type": "stream",
     "text": [
      "              precision    recall  f1-score   support\n",
      "\n",
      "           0       0.35      0.16      0.22        50\n",
      "           1       0.00      0.00      0.00        32\n",
      "           2       0.00      0.00      0.00        21\n",
      "           3       0.84      0.97      0.90       508\n",
      "\n",
      "    accuracy                           0.82       611\n",
      "   macro avg       0.30      0.28      0.28       611\n",
      "weighted avg       0.73      0.82      0.77       611\n",
      "\n"
     ]
    },
    {
     "name": "stderr",
     "output_type": "stream",
     "text": [
      "epoch 8 iter 76: train loss 0.34358, score 87.50%, lr 1.169778e-06: 100%|████████████████████████████████| 77/77 [00:20<00:00,  3.72it/s]\n",
      "12/07/2021 22:38:40 - valid loss: 0.623000\n",
      "12/07/2021 22:38:40 - valid score: 0.824877\n",
      "/home/suyinpei1/anaconda3/envs/syp/lib/python3.8/site-packages/sklearn/metrics/_classification.py:1248: UndefinedMetricWarning: Precision and F-score are ill-defined and being set to 0.0 in labels with no predicted samples. Use `zero_division` parameter to control this behavior.\n",
      "  _warn_prf(average, modifier, msg_start, len(result))\n",
      "/home/suyinpei1/anaconda3/envs/syp/lib/python3.8/site-packages/sklearn/metrics/_classification.py:1248: UndefinedMetricWarning: Precision and F-score are ill-defined and being set to 0.0 in labels with no predicted samples. Use `zero_division` parameter to control this behavior.\n",
      "  _warn_prf(average, modifier, msg_start, len(result))\n",
      "/home/suyinpei1/anaconda3/envs/syp/lib/python3.8/site-packages/sklearn/metrics/_classification.py:1248: UndefinedMetricWarning: Precision and F-score are ill-defined and being set to 0.0 in labels with no predicted samples. Use `zero_division` parameter to control this behavior.\n",
      "  _warn_prf(average, modifier, msg_start, len(result))\n"
     ]
    },
    {
     "name": "stdout",
     "output_type": "stream",
     "text": [
      "              precision    recall  f1-score   support\n",
      "\n",
      "           0       0.35      0.14      0.20        50\n",
      "           1       0.00      0.00      0.00        32\n",
      "           2       0.00      0.00      0.00        21\n",
      "           3       0.84      0.98      0.90       508\n",
      "\n",
      "    accuracy                           0.82       611\n",
      "   macro avg       0.30      0.28      0.28       611\n",
      "weighted avg       0.73      0.82      0.77       611\n",
      "\n"
     ]
    },
    {
     "name": "stderr",
     "output_type": "stream",
     "text": [
      "epoch 9 iter 20: train loss 0.35779, score 87.50%, lr 1.000000e-06:  27%|████████▋                       | 21/77 [00:05<00:15,  3.68it/s]"
     ]
    }
   ],
   "source": [
    "trainer = Trainer(model, train_loader, valid_loader, tconf)\n",
    "trainer.train()"
   ]
  },
  {
   "cell_type": "code",
   "execution_count": null,
   "id": "530e5004-7530-4de1-8e85-a76d07c91b93",
   "metadata": {},
   "outputs": [],
   "source": []
  }
 ],
 "metadata": {
  "kernelspec": {
   "display_name": "Python 3 (ipykernel)",
   "language": "python",
   "name": "python3"
  },
  "language_info": {
   "codemirror_mode": {
    "name": "ipython",
    "version": 3
   },
   "file_extension": ".py",
   "mimetype": "text/x-python",
   "name": "python",
   "nbconvert_exporter": "python",
   "pygments_lexer": "ipython3",
   "version": "3.8.11"
  }
 },
 "nbformat": 4,
 "nbformat_minor": 5
}
